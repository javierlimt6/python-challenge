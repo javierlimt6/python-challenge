{
 "cells": [
  {
   "cell_type": "markdown",
   "metadata": {},
   "source": [
    "# Reading your Google Contacts data\n",
    "\n",
    "Ever needed to find a specific group of people from your Google contacts, or to modify a whole bunch of people at a go? Now you can!\n",
    "\n",
    "## Task: Download and read in your contacts\n",
    "\n",
    "1. Go to https://contacts.google.com/ and sign in if necessary.\n",
    "2. Scroll to the bottom of the left sidebar, and click `Export`.\n",
    "3. Select `Google CSV` format, and export your contacts data.\n",
    "4. Upload the file (should be named `google.csv` in your Downloads folder) to the same directory as this notebook.\n",
    "5. Write a function to read in this file. Store the data in an appropriate data structure."
   ]
  },
  {
   "cell_type": "code",
   "execution_count": null,
   "metadata": {},
   "outputs": [],
   "source": [
    "# Write your code here\n",
    "\n"
   ]
  },
  {
   "cell_type": "markdown",
   "metadata": {},
   "source": [
    "## Task: Manage contact groups\n",
    "\n",
    "Under the “Group Membership” column, look at how contacts in multiple groups have their groups stored. What is the delimiter used to separate each group entry?\n",
    "\n",
    "Write code to add the other contacts to appropriate groups. When this file is uploaded to Google Contacts, these groups will be automatically created for you.\n",
    "\n",
    "Write the changes back to the CSV file."
   ]
  },
  {
   "cell_type": "code",
   "execution_count": null,
   "metadata": {},
   "outputs": [],
   "source": []
  },
  {
   "cell_type": "markdown",
   "metadata": {},
   "source": [
    "## Task: Upload the CSV file back to Google Contacts\n",
    "\n",
    "1. At the bottom of the left sidebar in Google Contacts, click `Import`.\n",
    "2. Select the modified CSV file and upload it.\n",
    "3. Check the changes you made and see if they have been applied.\n",
    "4. You can delete the `Imported on <date>` group that was automatically created. Be careful not to delete the contacts along with it!\n",
    "5. At the top of the left sidebar, click `Merge and fix`. That will help to merge the duplicate contacts."
   ]
  }
 ],
 "metadata": {
  "kernelspec": {
   "display_name": "Python 3",
   "language": "python",
   "name": "python3"
  },
  "language_info": {
   "codemirror_mode": {
    "name": "ipython",
    "version": 3
   },
   "file_extension": ".py",
   "mimetype": "text/x-python",
   "name": "python",
   "nbconvert_exporter": "python",
   "pygments_lexer": "ipython3",
   "version": "3.8.1"
  }
 },
 "nbformat": 4,
 "nbformat_minor": 2
}
