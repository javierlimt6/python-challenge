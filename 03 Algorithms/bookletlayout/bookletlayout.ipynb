{
 "cells": [
  {
   "cell_type": "markdown",
   "metadata": {},
   "source": [
    "# Page order for printing booklets\n",
    "\n",
    "When printing pages that are meant to be stapled at the corner, we can just follow the usual order of pages: 1, 2, 3, 4, …\n",
    "\n",
    "However, when printing a booklet, the order of pages is different."
   ]
  },
  {
   "attachments": {
    "booklet.gif": {
     "image/gif": "[encoded data removed]"
    }
   },
   "cell_type": "markdown",
   "metadata": {},
   "source": [
    "![booklet.gif](attachment:booklet.gif)"
   ]
  },
  {
   "cell_type": "markdown",
   "metadata": {},
   "source": [
    "In each booklet, the first page must be printed with the last page, the 2nd page must be printed with the second-last page, and so on."
   ]
  },
  {
   "attachments": {
    "Printer-Spreads.png": {
     "image/png": "[encoded data removed]"
    }
   },
   "cell_type": "markdown",
   "metadata": {},
   "source": [
    "![Printer-Spreads.png](attachment:Printer-Spreads.png)"
   ]
  },
  {
   "cell_type": "markdown",
   "metadata": {},
   "source": [
    "## Task: Generate page order for booklet printing\n",
    "\n",
    "Given `n`, the number of pages to be printed in the booklet (including cover and last page), generate the page order in which the pages are to be printed.\n",
    "\n",
    "Each piece of paper will have 4 pages printed on it (2-sided). If the number of pages to be printed is not a multiple of 4, the last few pages will be blank. Blank pages should be represented with a `None` value.\n",
    "\n",
    "## Example output\n",
    "\n",
    "    >>> booklet_pages(8)\n",
    "    [8, 1, 2, 7, 6, 3, 4, 5]\n",
    "    >>> booklet_pages(14)\n",
    "    [None, 1, 2, None, 14, 3, 4, 13, 12, 5, 6, 11, 10, 7, 8, 9]"
   ]
  },
  {
   "cell_type": "code",
   "execution_count": null,
   "metadata": {},
   "outputs": [],
   "source": [
    "def booklet_pages(n):\n",
    "    # Write your code here\n",
    "\n"
   ]
  },
  {
   "cell_type": "markdown",
   "metadata": {},
   "source": [
    "## Tests\n",
    "\n",
    "Write tests to _validate_ the correctness of the output."
   ]
  },
  {
   "cell_type": "code",
   "execution_count": null,
   "metadata": {},
   "outputs": [],
   "source": [
    "# Write test code here\n",
    "\n"
   ]
  },
  {
   "cell_type": "markdown",
   "metadata": {},
   "source": [
    "## Further challenge\n",
    "\n",
    "1. Some booklet designs require the back cover to be printed with the front cover, even if the number of pages is not a multiple of 4. The blank pages are inserted between the last page and the back cover.  \n",
    "   Add a keyword argument, `backcover=True`, that generates a page layout in this format.  \n",
    "     \n",
    "   **Example output**\n",
    "   \n",
    "       >>> booklet_pages(14, backcover=True)\n",
    "       [14, 1, 2, None, None, 3, 4, 13, 12, 5, 6, 11, 10, 7, 8, 9]\n",
    "\n",
    "2. For much longer books (>40 pages), it is not feasible to design booklets this way, as paper is difficult to fold when it is stacked too thickly.  \n",
    "   The pages of these books are grouped into folded signatures (4–5 sheets of 16–20 pages). Each signature is like a mini booklet. These signatures are then stitched together to make the book.  \n",
    "   Assuming a signature size of 5 sheets (20 pages), update the function so that it returns a list of lists containing the page order for the book when it has more than 20 pages. Each inner list in the outer list represents a signature (of 20 pages)."
   ]
  },
  {
   "attachments": {
    "stitch-signatures.png": {
     "image/png": "[encoded data removed]"
    }
   },
   "cell_type": "markdown",
   "metadata": {},
   "source": [
    "![stitch-signatures.png](attachment:stitch-signatures.png)"
   ]
  }
 ],
 "metadata": {
  "kernelspec": {
   "display_name": "Python 3",
   "language": "python",
   "name": "python3"
  },
  "language_info": {
   "codemirror_mode": {
    "name": "ipython",
    "version": 3
   },
   "file_extension": ".py",
   "mimetype": "text/x-python",
   "name": "python",
   "nbconvert_exporter": "python",
   "pygments_lexer": "ipython3",
   "version": "3.8.2"
  }
 },
 "nbformat": 4,
 "nbformat_minor": 2
}
