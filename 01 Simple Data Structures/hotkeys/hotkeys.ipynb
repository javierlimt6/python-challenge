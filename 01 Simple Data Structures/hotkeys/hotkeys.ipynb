{
 "cells": [
  {
   "cell_type": "markdown",
   "metadata": {},
   "source": [
    "# Parsing hotkeys from a file\n",
    "\n",
    "Some games allow players to customise the hotkeys for various actions through a configuration file. A configuration follows a certain format:\n",
    "\n",
    "    [category]\n",
    "    key = value\n",
    "\n",
    "`hotkeys.cfg` has its hotkey configuration organised by category, with each hotkey appearing in a particular category.\n",
    "\n",
    "## Task: Parse `hotkeys.cfg` ##\n",
    "\n",
    "Read `hotkey.cfg` into an appropriate data structure that enables looking up the hotkey for a particular action in a particular category."
   ]
  },
  {
   "cell_type": "code",
   "execution_count": null,
   "metadata": {},
   "outputs": [],
   "source": [
    "# Write your code here\n",
    "\n"
   ]
  },
  {
   "cell_type": "markdown",
   "metadata": {},
   "source": [
    "## Further challenge\n",
    "\n",
    "- Implement validation when modifying the configuration such that an `InvalidKeyException` is raised if an invalid key combination is given\n",
    "- Implement your program as a class with methods to read in the configuration from a `.cfg` file, modify the configuration, and save it back to a `.cfg` file"
   ]
  }
 ],
 "metadata": {
  "kernelspec": {
   "display_name": "Python 3",
   "language": "python",
   "name": "python3"
  },
  "language_info": {
   "codemirror_mode": {
    "name": "ipython",
    "version": 3
   },
   "file_extension": ".py",
   "mimetype": "text/x-python",
   "name": "python",
   "nbconvert_exporter": "python",
   "pygments_lexer": "ipython3",
   "version": "3.8.1"
  }
 },
 "nbformat": 4,
 "nbformat_minor": 2
}
