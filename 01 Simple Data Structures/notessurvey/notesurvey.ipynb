{
 "cells": [
  {
   "cell_type": "markdown",
   "metadata": {},
   "source": [
    "# Building a histogram\n",
    "\n",
    "A histogram is a graphical display of data using bars of different heights. In this notebook, you will be building a data structure that makes it easier to visualise a histogram (but you will not be printing one).\n",
    "\n",
    "The file `'basicpythonnotessurvey.csv'` contains CSV data from a survey about which entries in a set of notes should be kept.\n",
    "\n",
    "## Task: Extract data from CSV\n",
    "\n",
    "Extract data from the CSV file and process it. Write it to another file in an appropriate format, showing the total number of votes for each entry.\n",
    "\n",
    "**Example output**\n",
    "\n",
    "The data that is output to text file should look like:\n",
    "\n",
    "    functions\n",
    "    help(): 7\n",
    "    dir(): 7\n",
    "    [... more entries ...]\n",
    "\n",
    "    strings\n",
    "    .count(): 9\n",
    "    .find(): 9\n",
    "    [... more entries ...]\n",
    "\n",
    "    lists\n",
    "    L.append(object): 10\n",
    "    L.clear(): 7\n",
    "    [... more entries ...]\n",
    "    \n"
   ]
  },
  {
   "cell_type": "code",
   "execution_count": null,
   "metadata": {},
   "outputs": [],
   "source": [
    "# Write your code here\n",
    "\n"
   ]
  },
  {
   "cell_type": "markdown",
   "metadata": {},
   "source": [
    "## Testing\n",
    "\n",
    "Write tests to verify that the data is correctly calculated."
   ]
  },
  {
   "cell_type": "code",
   "execution_count": null,
   "metadata": {},
   "outputs": [],
   "source": []
  },
  {
   "cell_type": "markdown",
   "metadata": {},
   "source": [
    "## Further challenge\n",
    "\n",
    "- Output the data with the entries sorted by number of votes (descending order).\n",
    "- Produce a visual bar chart for each entry, with a symbol (e.g. `#`) representing each vote\n",
    "\n",
    "  Example:\n",
    "\n",
    "       functions\n",
    "       help():                 7  #######\n",
    "       dir():                  7  #######\n",
    "       divmod(value divisor): 10  ##########\n",
    "       [... more entries ...]"
   ]
  }
 ],
 "metadata": {
  "kernelspec": {
   "display_name": "Python 3",
   "language": "python",
   "name": "python3"
  },
  "language_info": {
   "codemirror_mode": {
    "name": "ipython",
    "version": 3
   },
   "file_extension": ".py",
   "mimetype": "text/x-python",
   "name": "python",
   "nbconvert_exporter": "python",
   "pygments_lexer": "ipython3",
   "version": "3.8.1"
  }
 },
 "nbformat": 4,
 "nbformat_minor": 2
}
