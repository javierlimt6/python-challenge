{
 "cells": [
  {
   "cell_type": "markdown",
   "metadata": {},
   "source": [
    "# Syncing files to Dropbox\n",
    "\n",
    "In this project, you will write a script that syncs your JupyterHub folder to your Dropbox account, checking each file or directory to see if it needs updating to Dropbox.\n",
    "\n",
    "This notebook will not work on Binder or on your laptop, as it needs to have access to your JupyterHub files. I suggest downloading `get_dropbox_api.ipynb` and `sync_to_dropbox.ipynb` to your JupyterHub folder (preferably in a subdirectory e.g. `dropbox-sync` for better organisation) and editing them from there.\n",
    "\n",
    "This notebook will also not work on SSOE laptops, as some required libraries (e.g. `requests`) are not available and will not be able to run.\n",
    "\n",
    "Go through [Accessing the Dropbox API](get_dropbox_api.ipynb) first to get a Dropbox API token which you will need to access the Dropbox API. Paste that API as a string in the code cell below, so that you can use it again easily via the `token` variable"
   ]
  },
  {
   "cell_type": "code",
   "execution_count": null,
   "metadata": {
    "scrolled": true
   },
   "outputs": [],
   "source": [
    "# This code sets up the Dropbox API class so it can be used later.\n",
    "from dropbox_api import DBApi, APIError, RateLimitError\n",
    "\n",
    "token = 'paste your Dropbox API token here'"
   ]
  },
  {
   "cell_type": "markdown",
   "metadata": {},
   "source": [
    "## 1 Try out the Dropbox API\n",
    "\n",
    "Instantiate the Dropbox API:\n",
    "\n",
    "    db = DBApi(token)"
   ]
  },
  {
   "cell_type": "code",
   "execution_count": null,
   "metadata": {},
   "outputs": [],
   "source": [
    "db = DBApi(token)"
   ]
  },
  {
   "cell_type": "markdown",
   "metadata": {},
   "source": [
    "The `DBApi` class makes a few methods available to us:\n",
    "\n",
    "- `db.list_folder()`\n",
    "- `db.create_folder()`\n",
    "- `db.upload_file()`\n",
    "- `db.delete()`\n",
    "\n",
    "And an attribute:\n",
    "\n",
    "- `db.root`\n",
    "\n",
    "You can use `help()` to explore the usage of each method.\n",
    "\n",
    "Before you start writing code to use these methods, it is good practice to call them (e.g. `db.list_folder()`) and examine the response from it. How is the response structured? Get familiar with the output from the above methods before you proceed."
   ]
  },
  {
   "cell_type": "markdown",
   "metadata": {},
   "source": [
    "## 2 Get file/directory listing from Dropbox\n",
    "\n",
    "Get a list of files and directories from Dropbox using the Dropbox API."
   ]
  },
  {
   "cell_type": "code",
   "execution_count": null,
   "metadata": {},
   "outputs": [],
   "source": [
    "# Get a list of entries, each entry being a file or directory in Dropbox.\n",
    "# Store it in the variable `db_entries`\n",
    "# By this point you shouldn't have anything in your Dropbox app folder,\n",
    "# So don't be surprised to see an empty list!\n",
    "\n",
    "db_entries = \n",
    "\n"
   ]
  },
  {
   "cell_type": "markdown",
   "metadata": {},
   "source": [
    "## 3 Get file/directory listing from local directory using `os`\n",
    "\n",
    "Use `os.listdir()` to generate a list of files and directories in your JupyterHub home directory.\n",
    "\n",
    "The full path of your home directory is `'/home/jupyter-<your_username>'`. So if your username is `anewuser`, your home directory will be at `'/home/jupyter-anewuser'`.\n",
    "\n",
    "Note that `os.listdir()` will not list the contents of subdirectories for you; you will have to list them recursively."
   ]
  },
  {
   "cell_type": "code",
   "execution_count": null,
   "metadata": {},
   "outputs": [],
   "source": [
    "# Write code below to get a list of entries, each entry being a file or\n",
    "# directory in your current directory.\n",
    "# Store it in the variable `local_entries`\n",
    "\n",
    "import os\n",
    "\n",
    "local_entries = \n",
    "\n"
   ]
  },
  {
   "cell_type": "markdown",
   "metadata": {},
   "source": [
    "**(optional)** There are many files and folders in the listing that can be ignored. Edit your code above to ignore the following files and directories.\n",
    "\n",
    "- `.ipynb_checkpoints`\n",
    "- `__pycache__`\n",
    "- `.ipython`\n",
    "- `.bash_history`\n",
    "- `.bashrc`\n",
    "- `.local`\n",
    "- `.npm`\n",
    "- `.conda`\n",
    "- `.cache`\n",
    "- `.jupyter`\n",
    "- `.config`\n",
    "- `.profile`\n",
    "- `.bash_logout`"
   ]
  },
  {
   "cell_type": "markdown",
   "metadata": {},
   "source": [
    "## 4 Compare Dropbox and local entries\n",
    "\n",
    "Now we try to sync the Dropbox entries in `db_entries` and the local entries in `local_entries`.\n",
    "\n",
    "Look at the format of `db_entries` and `local_entries` and think about how you would compare the two listings. Is the current format easy to compare?\n",
    "\n",
    "You might want to update your code to make them easier to compare."
   ]
  },
  {
   "cell_type": "markdown",
   "metadata": {},
   "source": [
    "### (A) Syncing algorithm\n",
    "\n",
    "The general algorithm for mirroring your current directory on Dropbox (one-way sync) is as follows:\n",
    "\n",
    "1. If there are any entries in `db_entries` that are not in `local_entries`, **delete** them.\n",
    "2. If there are any entries in `local_entries` that are not in `db_entries`:\n",
    "    - If the entry is a file, **upload** it.\n",
    "    - If the entry is a directory, **create** it.\n",
    "3. If there are any entries that are both in `db_entries` and `local_entries`:\n",
    "    - If the entries are files, compare them to see if they have changed.\n",
    "    - If the entries are directories, ignore them.\n",
    "    \n",
    "On what basis shall we compare the files in Step 3? We will look into that later. For now, carry out step 1 and 2.\n",
    "\n",
    "1. Create a folder with `db.create_folder()`.\n",
    "2. Upload a file into this folder with `db.upload_file()`.\n",
    "3. Delete the file and folder with `db.delete()`.\n",
    "\n",
    "After each step, verify that it was correctly executed by checking your Dropbox account. The folders and files should be created in `App/<your app name>`."
   ]
  },
  {
   "cell_type": "code",
   "execution_count": null,
   "metadata": {},
   "outputs": [],
   "source": []
  },
  {
   "cell_type": "markdown",
   "metadata": {},
   "source": [
    "Implement the one-way sync algorithm to sync your JupyterHub home directory to your Dropbox folder.\n",
    "\n",
    "Before you embark on this task, drop me a message and I will back up your home directory for you. Just in case."
   ]
  },
  {
   "cell_type": "code",
   "execution_count": null,
   "metadata": {},
   "outputs": [],
   "source": [
    "# Write your one-way sync program here\n",
    "\n"
   ]
  },
  {
   "cell_type": "markdown",
   "metadata": {},
   "source": [
    "### (B) Checking files for changes with `rev`\n",
    "\n",
    "Notice that in the response from `db.upload_file()` (or `db.list_folder()`), files carry some additional information. There is a `content_hash` attribute and a `rev` attribute.\n",
    "\n",
    "The `content_hash` is used to verify that a file has been uploaded correctly. This hash should match the hash of the file generated locally. The algorithm for doing so can be found [in Dropbox's documentation](https://www.dropbox.com/developers/reference/content-hash). **We will not do this hashing for this project.**\n",
    "\n",
    "The `rev` (stands for **revision**) is generated each time the file is changed on Dropbox. By storing a copy of the `rev` and comparing it to the `rev` from Dropbox, we can easily know whether there have been any changes to the file on Dropbox.\n",
    "\n",
    "To carry out step 3, therefore, we need to store the `rev` locally and compare it to the one returned from Dropbox.\n",
    "\n",
    "The one-way sync algorithm with rev is as follows:\n",
    "\n",
    "1. If there are any entries in `db_entries` that are not in `local_entries`, delete them.\n",
    "2. If there are any entries in `local_entries` that are not in `db_entries`:\n",
    "    - If the entry is a file, upload it **and store the `rev`**.\n",
    "    - If the entry is a directory, create it.\n",
    "3. If there are any entries that are both in `db_entries` and `local_entries`:\n",
    "    - If the entries are files, compare **their `rev`s** to see if they have changed.\n",
    "    - If the entries are directories, ignore them."
   ]
  },
  {
   "cell_type": "markdown",
   "metadata": {},
   "source": [
    "Implement the syncing algorithm. You may have to edit your code from **Task 3.2** to store the `rev` in `local_entries`.\n",
    "\n",
    "It is recommended that you initialise any `rev`s for local file entries to `None` rather than `0` or `False`, to avoid invisible errors."
   ]
  },
  {
   "cell_type": "code",
   "execution_count": null,
   "metadata": {
    "scrolled": true
   },
   "outputs": [],
   "source": [
    "# Delete entries from db_entries that are not in local_entries\n",
    "# Upload files from local_entries that are not in db_entries\n",
    "# For files in both local_entries and db_entries, compare their revs,\n",
    "# upload the file if the rev is different\n",
    "\n"
   ]
  },
  {
   "cell_type": "markdown",
   "metadata": {},
   "source": [
    "## 5 Store the results to a file\n",
    "\n",
    "The next time we sync the folder contents again, we will need to know the previous `rev`s for each file. That means we need to store them somewhere ... the easiest and most straightforward way is probably as a CSV file.\n",
    "\n",
    "Write a function, `export_csv()`, that will write `local_entries` and their `rev`s (where necessary) to a CSV file.\n",
    "\n",
    "You should decide an appropriate format to store the entries and their `rev`s before writing your code."
   ]
  },
  {
   "cell_type": "code",
   "execution_count": null,
   "metadata": {},
   "outputs": [],
   "source": [
    "# Export local_entries to a CSV file\n",
    "\n",
    "def export_csv(filename,entries):\n",
    "    '''Store (current) local_entries with rev and mtime to CSV.'''\n",
    "    # Write your code here"
   ]
  },
  {
   "cell_type": "markdown",
   "metadata": {},
   "source": [
    "The next time you sync the files, you wouldn’t want to generate the `local_entries` from scratch: there wouldn't be any `rev`s to check!\n",
    "\n",
    "You would have to load it from the CSV file created previously.\n",
    "\n",
    "But you would also need to check it against the **most current** file/directory listing to see if anything has changed. But how would we do that, since `os.listdir()` doesn't generate `rev`s for us to check?\n",
    "\n",
    "Whenever a file is modified, the operating system updates its **modified date/time**. You can get the **modified date/time** for a file using `os.path.getmtime()`.\n",
    "\n",
    "Hmm, deeper and deeper ... now we have to store an attribute for the **modified date/time**, `mtime`, so that we can check it against the latest listing.\n",
    "\n",
    "Write a function, `import_csv()`, that will read `local_entries`, their`rev`s, and their `mtimes` from a CSV file. You will also need to update your code from Task 5.1 to export the `mtime`s for each file."
   ]
  },
  {
   "cell_type": "code",
   "execution_count": null,
   "metadata": {},
   "outputs": [],
   "source": [
    "# Import local_entries from a CSV file\n",
    "\n",
    "def import_csv(filename):\n",
    "    '''Read in (previous) local_entries, rev, and mtime from CSV.'''\n",
    "    # Write your code here"
   ]
  },
  {
   "cell_type": "markdown",
   "metadata": {},
   "source": [
    "Update your earlier code for generating and saving `local_entries`. It must read `local_entries` from `'local_entries.csv'` first. Then it must compare the `mtime` of files in `local_entries` to the current file & directory listing.\n",
    "  - Where the `mtime` is the same, do nothing\n",
    "  - If the `mtime` is different, set the `rev` to `None` so that it will be uploaded to Dropbox"
   ]
  },
  {
   "cell_type": "markdown",
   "metadata": {},
   "source": [
    "# 6 Put it all together\n",
    "\n",
    "Now that you have all the pieces written, see if you can work out the logic of the program. What should happen first, and what should happen next? Feel free to move the cells around and edit them so that it makes more sense to you.\n",
    "\n",
    "Put them in the right order, and you should have a program that successfully copies your JupyterHub home directory to Dropbox. You can run the entire script by going to `Kernel` → `Restart and Run All`."
   ]
  }
 ],
 "metadata": {
  "kernelspec": {
   "display_name": "Python 3",
   "language": "python",
   "name": "python3"
  },
  "language_info": {
   "codemirror_mode": {
    "name": "ipython",
    "version": 3
   },
   "file_extension": ".py",
   "mimetype": "text/x-python",
   "name": "python",
   "nbconvert_exporter": "python",
   "pygments_lexer": "ipython3",
   "version": "3.8.2"
  }
 },
 "nbformat": 4,
 "nbformat_minor": 2
}
