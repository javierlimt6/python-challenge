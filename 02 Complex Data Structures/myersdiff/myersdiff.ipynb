{
 "cells": [
  {
   "cell_type": "markdown",
   "metadata": {},
   "source": [
    "# diff algorithms\n",
    "\n",
    "We often need to compare two things to see what has changed or is different between them. Such algorithms are used in:\n",
    "\n",
    "- genomics analysis (comparing gene/protein sequences)\n",
    "- text analysis (to compare two similar texts)\n",
    "- software updates (diffs between two versions allow the old version to be “patched” with a diff file instead of having to copy the entire new file)\n",
    "- collaboration (version control software generates diffs to move between versions of a file)\n",
    "\n",
    "There are various diff algorithms with more specialised purposes, but a common and popular one is the Myers diff algorithm for text files.\n",
    "\n",
    "The original paper [can be found in this pdf](http://www.xmailserver.org/diff2.pdf).\n",
    "\n",
    "The source code (in C# language) [can be found here](http://www.mathertel.de/Diff/ViewSrc.aspx).\n",
    "\n",
    "A simpler explanation [can be found here](https://blog.jcoglan.com/2017/02/12/the-myers-diff-algorithm-part-1/) (3-part series).\n",
    "\n",
    "## Task: generate diff output from comparing two text files\n",
    "\n",
    "Write a function, `diff()`, that compares the text from two text files, and generates the differences between them.\n",
    "\n",
    "You may wish to write a separate function to output the diff to a text file.\n",
    "\n",
    "### Example\n",
    "\n"
   ]
  },
  {
   "cell_type": "code",
   "execution_count": null,
   "metadata": {},
   "outputs": [],
   "source": [
    "def diff(input1, input2):\n",
    "    # Write your code here\n",
    "    \n",
    "    "
   ]
  },
  {
   "cell_type": "markdown",
   "metadata": {},
   "source": [
    "## Tests\n",
    "\n",
    "Write code to test the output from `make_valid()` using `validate_luhn()`.\n",
    "\n",
    "You can get randomly generated valid credit card numbers from [freeformatter.com](https://www.freeformatter.com/credit-card-number-generator-validator.html)."
   ]
  },
  {
   "cell_type": "code",
   "execution_count": null,
   "metadata": {},
   "outputs": [],
   "source": [
    "# Write test code here\n",
    "\n"
   ]
  },
  {
   "cell_type": "markdown",
   "metadata": {},
   "source": [
    "## Further challenge\n",
    "\n",
    "1. Write a `patch()` function that applies the diff of file1 vs file 2 to file1. The result should be identical to file2.\n",
    "2. Write a test to verify that the output of `diff()` and `patch()` are correct."
   ]
  }
 ],
 "metadata": {
  "kernelspec": {
   "display_name": "Python 3",
   "language": "python",
   "name": "python3"
  },
  "language_info": {
   "codemirror_mode": {
    "name": "ipython",
    "version": 3
   },
   "file_extension": ".py",
   "mimetype": "text/x-python",
   "name": "python",
   "nbconvert_exporter": "python",
   "pygments_lexer": "ipython3",
   "version": "3.8.2"
  }
 },
 "nbformat": 4,
 "nbformat_minor": 2
}
