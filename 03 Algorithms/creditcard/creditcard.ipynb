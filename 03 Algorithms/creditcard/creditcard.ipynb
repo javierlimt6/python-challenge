{
 "cells": [
  {
   "cell_type": "markdown",
   "metadata": {},
   "source": [
    "# The Luhn algorithm\n",
    "\n",
    "Similar to your NRIC number, credit card numbers, phone IMEI numbers, and other forms of identification usually include some form of checksum in the ID so that it can be validated. One such algorithm for generating a checksum is known as the **Luhn algorithm**, or **mod 10 algorithm**.\n",
    "\n",
    "The steps of this algorithm are as follows:\n",
    "\n",
    "1. Starting from the right, double the value of every second digit.\n",
    "2. If doubling the number results in a two-digit number, add the digits of the product to get a single-digit number.\n",
    "3. Take the sum of all the digits.\n",
    "4. If the total modulo 10 is equal to 0, the number is valid. Otherwise, it is invalid.\n",
    "\n",
    "## Task 1: Validate input using Luhn algorithm\n",
    "\n",
    "Write a function, `validate_luhn()`, that validates an input string of digits (as `str`).\n",
    "\n",
    "### Example\n",
    "\n",
    "```\n",
    "Input : [ 5 8  7 9 4 5  9 8  7 9 4 5]\n",
    "Step 1: [10 8 14 9 8 5 18 8 14 9 8 5]\n",
    "Step 2: [ 1 8  5 9 8 5  9 8  5 9 8 5]\n",
    "Step 3: 80\n",
    "Step 4: 80 % 10 = 0\n",
    "Input is valid.\n",
    "```"
   ]
  },
  {
   "cell_type": "code",
   "execution_count": null,
   "metadata": {},
   "outputs": [],
   "source": [
    "def validate_luhn(inputstr):\n",
    "    # Write your code here\n",
    "    \n",
    "    "
   ]
  },
  {
   "cell_type": "markdown",
   "metadata": {},
   "source": [
    "A credit card number is a 12- to 19-digit number. The first 1-4 digits of the number uniquely identifies the issuing bank, while the rest of the digits **except the last digit** constitute an ID that is unique to each customer.\n",
    "\n",
    "The last digit is set to a value that would make the credit card number valid.\n",
    "\n",
    "If a bank wishes to issue a new Visa card (first digit 4), it would generate all the digits except the last digit. The last digit is then set such that the 16-digit credit card number is valid under the Luhn algorithm.\n",
    "\n",
    "## Task 2: generate valid credit card number\n",
    "\n",
    "Write a function, `make_valid()`, that will take in a string of digits (as `str`) and **add** a final digit that makes them valid.\n",
    "\n",
    "The function should return the full string of digits, including the final check digit, as output.\n",
    "\n",
    "### Example\n",
    "\n",
    "```\n",
    "Input: 492903850214850_ (_ stands for missing last digit, treated as 0 for now)\n",
    "Sum of all digits after Luhn algorithm: 65\n",
    "Value of last digit required to pass Luhn algorithm: 5\n",
    "Full 16-digit credit card number: 4929038502148505\n",
    "```"
   ]
  },
  {
   "cell_type": "code",
   "execution_count": null,
   "metadata": {},
   "outputs": [],
   "source": [
    "def make_valid(inputstr):\n",
    "    # Write your code here"
   ]
  },
  {
   "cell_type": "markdown",
   "metadata": {},
   "source": [
    "## Tests\n",
    "\n",
    "Write code to test the output from `make_valid()` using `validate_luhn()`.\n",
    "\n",
    "You can get randomly generated valid credit card numbers from [freeformatter.com](https://www.freeformatter.com/credit-card-number-generator-validator.html)."
   ]
  },
  {
   "cell_type": "code",
   "execution_count": null,
   "metadata": {},
   "outputs": [],
   "source": [
    "# Write test code here\n",
    "\n"
   ]
  },
  {
   "cell_type": "markdown",
   "metadata": {},
   "source": [
    "## Further challenge\n",
    "\n",
    "1. Refactor your code so that any repeated code across the two functions can be modularised."
   ]
  }
 ],
 "metadata": {
  "kernelspec": {
   "display_name": "Python 3",
   "language": "python",
   "name": "python3"
  },
  "language_info": {
   "codemirror_mode": {
    "name": "ipython",
    "version": 3
   },
   "file_extension": ".py",
   "mimetype": "text/x-python",
   "name": "python",
   "nbconvert_exporter": "python",
   "pygments_lexer": "ipython3",
   "version": "3.8.2"
  }
 },
 "nbformat": 4,
 "nbformat_minor": 2
}
